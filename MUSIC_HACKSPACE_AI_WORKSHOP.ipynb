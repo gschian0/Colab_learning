{
  "nbformat": 4,
  "nbformat_minor": 0,
  "metadata": {
    "colab": {
      "provenance": [],
      "machine_shape": "hm",
      "gpuClass": "premium",
      "authorship_tag": "ABX9TyN2MY/0fn4qVWJungOm7A3a",
      "include_colab_link": true
    },
    "kernelspec": {
      "name": "python3",
      "display_name": "Python 3"
    },
    "language_info": {
      "name": "python"
    },
    "accelerator": "GPU",
    "gpuClass": "premium"
  },
  "cells": [
    {
      "cell_type": "markdown",
      "metadata": {
        "id": "view-in-github",
        "colab_type": "text"
      },
      "source": [
        "<a href=\"https://colab.research.google.com/github/gschian0/Colab_learning/blob/main/MUSIC_HACKSPACE_AI_WORKSHOP.ipynb\" target=\"_parent\"><img src=\"https://colab.research.google.com/assets/colab-badge.svg\" alt=\"Open In Colab\"/></a>"
      ]
    },
    {
      "cell_type": "markdown",
      "source": [
        "WELCOME TO GOOGLE COLAB!!\n",
        "\n",
        "I am Gennaro Schiano and I want to teach you how to do fun stuff in the cloud.\n",
        "\n",
        "for EXAMPLE... Making AI ART LIKE THIS\n",
        "\n",
        "\n",
        "\n",
        "We will cover a few subjects...\n",
        "\n",
        "*   Simple BASH COMMANDS\n",
        "*   Simple PYTHON Intro\n",
        "*   What is Google Colab?  What is it from?\n",
        "*   HOW TO USE GOOGLE COLAB TO INSTALL AI ART GENERATORS leveraging your new BASH AND PTYHON KNOWLEDGE!\n",
        "\n",
        "\n",
        "\n",
        "---\n",
        "\n",
        "Some Useful Links to have for reference while getting started\n",
        "\n",
        "\n",
        "\n",
        "*   [GOOGLE COLAB BASIC OVERVIEW](hhttps://colab.research.google.com/notebooks/basic_features_overview.ipynb)\n",
        "\n",
        "\n"
      ],
      "metadata": {
        "id": "TzBsbIdyorUe"
      }
    },
    {
      "cell_type": "code",
      "execution_count": null,
      "metadata": {
        "id": "BGbngI5Loqup",
        "colab": {
          "base_uri": "https://localhost:8080/"
        },
        "outputId": "070e9050-605c-4621-9612-5037bfed713b"
      },
      "outputs": [
        {
          "output_type": "stream",
          "name": "stdout",
          "text": [
            "Fri Oct 21 18:52:16 2022       \n",
            "+-----------------------------------------------------------------------------+\n",
            "| NVIDIA-SMI 460.32.03    Driver Version: 460.32.03    CUDA Version: 11.2     |\n",
            "|-------------------------------+----------------------+----------------------+\n",
            "| GPU  Name        Persistence-M| Bus-Id        Disp.A | Volatile Uncorr. ECC |\n",
            "| Fan  Temp  Perf  Pwr:Usage/Cap|         Memory-Usage | GPU-Util  Compute M. |\n",
            "|                               |                      |               MIG M. |\n",
            "|===============================+======================+======================|\n",
            "|   0  A100-SXM4-40GB      Off  | 00000000:00:04.0 Off |                    0 |\n",
            "| N/A   31C    P0    44W / 400W |      0MiB / 40536MiB |      0%      Default |\n",
            "|                               |                      |             Disabled |\n",
            "+-------------------------------+----------------------+----------------------+\n",
            "                                                                               \n",
            "+-----------------------------------------------------------------------------+\n",
            "| Processes:                                                                  |\n",
            "|  GPU   GI   CI        PID   Type   Process name                  GPU Memory |\n",
            "|        ID   ID                                                   Usage      |\n",
            "|=============================================================================|\n",
            "|  No running processes found                                                 |\n",
            "+-----------------------------------------------------------------------------+\n"
          ]
        }
      ],
      "source": [
        "#this is a comment I am letting y0u know we are checking to see if we are connected to a GPU instance\n",
        "!nvidia-smi"
      ]
    },
    {
      "cell_type": "code",
      "source": [
        "#/You can also Mount your Google Drive to access files#follow the instructions and press allow\n",
        "from google.colab import drive\n",
        "drive.mount('/content/drive')"
      ],
      "metadata": {
        "id": "NIOjjZ6D0fKm",
        "colab": {
          "base_uri": "https://localhost:8080/"
        },
        "outputId": "5903237e-d7c6-494a-b845-73b11cf60169"
      },
      "execution_count": null,
      "outputs": [
        {
          "output_type": "stream",
          "name": "stdout",
          "text": [
            "Mounted at /content/drive\n"
          ]
        }
      ]
    }
  ]
}